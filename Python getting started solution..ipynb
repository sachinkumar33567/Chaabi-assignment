{
 "cells": [
  {
   "cell_type": "code",
   "execution_count": null,
   "id": "7a24a43f",
   "metadata": {},
   "outputs": [],
   "source": [
    "Q1. Get your basics right - Implement selection sort algorithm in python. The function accepts a\n",
    "list in the input and returns a sorted list.\n",
    "E.g.\n",
    "Input f1([5,416,54,21,6135,15,741]) should\n",
    "Return [5, 15, 21, 54, 416, 741, 6135]"
   ]
  },
  {
   "cell_type": "code",
   "execution_count": 6,
   "id": "58a30d8b",
   "metadata": {},
   "outputs": [
    {
     "data": {
      "text/plain": [
       "[5, 15, 21, 54, 416, 741, 6135]"
      ]
     },
     "execution_count": 6,
     "metadata": {},
     "output_type": "execute_result"
    }
   ],
   "source": [
    "def selection_sort(arr):\n",
    "    n = len(arr)\n",
    "    for i in range(n):\n",
    "        min_idx = i\n",
    "        for j in range(i+1, n):\n",
    "            if arr[j] < arr[min_idx]:\n",
    "                min_idx = j\n",
    "        arr[i], arr[min_idx] = arr[min_idx], arr[i]\n",
    "    return arr\n",
    "\n",
    "selection_sort([5,416,54,21,6135,15,741])"
   ]
  },
  {
   "cell_type": "code",
   "execution_count": null,
   "id": "5c64d49c",
   "metadata": {},
   "outputs": [],
   "source": []
  },
  {
   "cell_type": "code",
   "execution_count": null,
   "id": "2acb9c7e",
   "metadata": {},
   "outputs": [],
   "source": []
  },
  {
   "cell_type": "code",
   "execution_count": null,
   "id": "ccfbcfd5",
   "metadata": {},
   "outputs": [],
   "source": [
    "Q2. Dictionary, what?\n",
    "\n",
    "Write a program that returns the file type from a file name. The type of the file is determined\n",
    "from the extension. Initially, a list of values of the form \"extension,type\"(e.g. xls,spreadsheet;\n",
    "png,image) will be input.\n",
    "\n",
    "The program takes input in the following form:\n",
    "1. Input extension and type values in the form of a string having the following format:\n",
    "    a. \"extension1,type1;extension2,type2;extension3,type3\"\n",
    "    b. E.g. If we needed to input xls → spreadsheet, xlsx → spreadsheet, jpg → image our string would be something like: \"xls,spreadsheet;xlsx,spreadsheet;jpg,image\"\n",
    "    \n",
    "2. Input a list of filename.extension. E.g. an input list could be something like [\"abc.html\", \"xyz.xls\", \"text.csv\", \"123\"]\n",
    "    The program should return a dict of filename: type pairs\n",
    "\n",
    "E.g.\n",
    "f(\"xls,spreadsheet;xlsx,spreadsheet;jpg,image\", [\"abc.jpg\",\n",
    "\"xyz.xls\", \"text.csv\", \"123\"]) should return\n",
    "\n",
    "{\n",
    "\"abc.jpg\": \"image\",\n",
    "\"xyz.xls\": \"spreadsheet\",\n",
    "\"Text.csv\": \"unknown\",\n",
    "\"123\": \"unknown\"\n",
    "}"
   ]
  },
  {
   "cell_type": "code",
   "execution_count": 7,
   "id": "7fd29461",
   "metadata": {},
   "outputs": [
    {
     "name": "stdout",
     "output_type": "stream",
     "text": [
      "{'abc.jpg': 'image', 'xyz.xls': 'spreadsheet', 'text.csv': 'unknown', '123': 'unknown'}\n"
     ]
    }
   ],
   "source": [
    "def get_file_types(extension_type_str, file_names):\n",
    "    # Convert extension and type string to a dictionary\n",
    "    extension_type_dict = {}\n",
    "    for extension_type_pair in extension_type_str.split(\";\"):\n",
    "        extension, file_type = extension_type_pair.split(\",\")\n",
    "        extension_type_dict[extension] = file_type\n",
    "\n",
    "    # Create a dictionary of file names and types\n",
    "    file_type_dict = {}\n",
    "    for file_name in file_names:\n",
    "        if \".\" not in file_name:\n",
    "            file_type_dict[file_name] = \"unknown\"\n",
    "        else:\n",
    "            extension = file_name.split(\".\")[-1]\n",
    "            if extension in extension_type_dict:\n",
    "                file_type_dict[file_name] = extension_type_dict[extension]\n",
    "            else:\n",
    "                file_type_dict[file_name] = \"unknown\"\n",
    "\n",
    "    return file_type_dict\n",
    "\n",
    "extension_type_str = \"xls,spreadsheet;xlsx,spreadsheet;jpg,image\"\n",
    "file_names = [\"abc.jpg\", \"xyz.xls\", \"text.csv\", \"123\"]\n",
    "file_type_dict = get_file_types(extension_type_str, file_names)\n",
    "print(file_type_dict)"
   ]
  },
  {
   "cell_type": "code",
   "execution_count": null,
   "id": "5681dfc7",
   "metadata": {},
   "outputs": [],
   "source": []
  },
  {
   "cell_type": "code",
   "execution_count": null,
   "id": "a72b6c3b",
   "metadata": {},
   "outputs": [],
   "source": []
  },
  {
   "cell_type": "code",
   "execution_count": null,
   "id": "d72d00c9",
   "metadata": {},
   "outputs": [],
   "source": [
    "Q3. Column Sorting, yay!\n",
    "\n",
    "Given a list of dicts, write a program to sort the list according to a key given in input.\n",
    "E.g.\n",
    "Input f([\n",
    "{\"fruit\": \"orange\", \"color\": \"orange\"},\n",
    "{\"fruit\": \"apple\", \"color\": \"red\"},\n",
    "{\"fruit\": \"banana\", \"color\": \"yellow\"},\n",
    "{\"fruit\": \"blueberry\", \"color\": \"blue\"}\n",
    "], \"fruit\")\n",
    "Should Output\n",
    "[\n",
    "{\"fruit\": \"apple\", \"color\": \"red\"},\n",
    "{\"fruit\": \"banana\", \"color\": \"yellow\"},\n",
    "{\"fruit\": \"blueberry\", \"color\": \"blue\"},\n",
    "{\"fruit\": \"orange\", \"color\": \"orange\"}\n",
    "]\n",
    "AND\n",
    "Input f([\n",
    "{\"fruit\": \"orange\", \"color\": \"orange\"},\n",
    "{\"fruit\": \"apple\", \"color\": \"red\"},\n",
    "{\"fruit\": \"banana\", \"color\": \"yellow\"},\n",
    "{\"fruit\": \"blueberry\", \"color\": \"blue\"}\n",
    "], \"color\")\n",
    "Should Output\n",
    "[\n",
    "{\"fruit\": \"blueberry\", \"color\": \"blue\"},\n",
    "{\"fruit\": \"orange\", \"color\": \"orange\"},\n",
    "{\"fruit\": \"apple\", \"color\": \"red\"},\n",
    "{\"fruit\": \"banana\", \"color\": \"yellow\"}\n",
    "]"
   ]
  },
  {
   "cell_type": "code",
   "execution_count": 8,
   "id": "01ee5d74",
   "metadata": {},
   "outputs": [
    {
     "data": {
      "text/plain": [
       "[{'fruit': 'apple', 'color': 'red'},\n",
       " {'fruit': 'banana', 'color': 'yellow'},\n",
       " {'fruit': 'blueberry', 'color': 'blue'},\n",
       " {'fruit': 'orange', 'color': 'orange'}]"
      ]
     },
     "execution_count": 8,
     "metadata": {},
     "output_type": "execute_result"
    }
   ],
   "source": [
    "def sort_dict_list(list_of_dicts, key):\n",
    "    sorted_list = sorted(list_of_dicts, key=lambda x: x[key])\n",
    "    return sorted_list\n",
    "\n",
    "sort_dict_list([\n",
    "{\"fruit\": \"orange\", \"color\": \"orange\"},\n",
    "{\"fruit\": \"apple\", \"color\": \"red\"},\n",
    "{\"fruit\": \"banana\", \"color\": \"yellow\"},\n",
    "{\"fruit\": \"blueberry\", \"color\": \"blue\"}\n",
    "], \"fruit\")"
   ]
  },
  {
   "cell_type": "code",
   "execution_count": null,
   "id": "8deac77c",
   "metadata": {},
   "outputs": [],
   "source": []
  },
  {
   "cell_type": "code",
   "execution_count": null,
   "id": "afdea756",
   "metadata": {},
   "outputs": [],
   "source": []
  },
  {
   "cell_type": "code",
   "execution_count": null,
   "id": "42e64c35",
   "metadata": {},
   "outputs": [],
   "source": [
    "4. The power of one line -\n",
    "Given a dictionary, switch position of key and values in the dict, i.e., value becomes the key and\n",
    "key becomes value. The function's body shouldn't have more than one statement.\n",
    "\n",
    "f({\n",
    "\"key1\": \"value1\",\n",
    "\"key2\": \"value2\",\n",
    "\"key3\": \"value3\",\n",
    "\"key4\": \"value4\",\n",
    "\"key5\": \"value5\"\n",
    "}) should return\n",
    "{\n",
    "\"value1\": \"key1\",\n",
    "\"value2\": \"key2\",\n",
    "\"value3\": \"key3\",\n",
    "\"value4\": \"key4\",\n",
    "\"value5\": \"key5\"\n",
    "}"
   ]
  },
  {
   "cell_type": "code",
   "execution_count": 9,
   "id": "f6b4e915",
   "metadata": {},
   "outputs": [
    {
     "data": {
      "text/plain": [
       "{'value1': 'key1',\n",
       " 'value2': 'key2',\n",
       " 'value3': 'key3',\n",
       " 'value4': 'key4',\n",
       " 'value5': 'key5'}"
      ]
     },
     "execution_count": 9,
     "metadata": {},
     "output_type": "execute_result"
    }
   ],
   "source": [
    "def switch_dict_key_value(dict_input):\n",
    "    return {value: key for key, value in dict_input.items()}\n",
    "\n",
    "\n",
    "switch_dict_key_value({\n",
    "\"key1\": \"value1\",\n",
    "\"key2\": \"value2\",\n",
    "\"key3\": \"value3\",\n",
    "\"key4\": \"value4\",\n",
    "\"key5\": \"value5\"\n",
    "})"
   ]
  },
  {
   "cell_type": "code",
   "execution_count": null,
   "id": "6230fb32",
   "metadata": {},
   "outputs": [],
   "source": []
  },
  {
   "cell_type": "code",
   "execution_count": null,
   "id": "d03a7aea",
   "metadata": {},
   "outputs": [],
   "source": []
  },
  {
   "cell_type": "code",
   "execution_count": null,
   "id": "1d0d6f9a",
   "metadata": {},
   "outputs": [],
   "source": [
    "Q5. Common, Not Common\n",
    "\n",
    "Given 2 lists in input. Write a program to return the elements, which are common to both\n",
    "lists(set intersection) and those which are not common(set symmetric difference) between the\n",
    "lists.\n",
    "\n",
    "Input:\n",
    "Mainstream = [\"One Punch Man\",\"Attack On Titan\",\"One Piece\",\"Sword\n",
    "Art Online\",\"Bleach\",\"Dragon Ball Z\",\"One Piece\"]\n",
    "must_watch = [\"Full Metal Alchemist\",\"Code Geass\",\"Death\n",
    "Note\",\"Stein's Gate\",\"The Devil is a Part Timer!\",\"One Piece\",\"Attack\n",
    "On Titan\"]\n",
    "              \n",
    "f(mainstream, must_watch) should return:\n",
    "              \n",
    "[\"One Piece\", \"Attack On Titan\"], [\"Dragon Ball Z\", \"Death Note\",\n",
    "\"One Punch Man\", \"Stein's Gate\", \"The Devil is a Part Timer!\", \"Sword\n",
    "Art Online\",\"Full Metal Alchemist\",\"'Bleach\", \"Code Geass\"]"
   ]
  },
  {
   "cell_type": "code",
   "execution_count": 13,
   "id": "755b8135",
   "metadata": {},
   "outputs": [
    {
     "data": {
      "text/plain": [
       "(['One Piece', 'Attack On Titan'],\n",
       " ['Sword Art Online',\n",
       "  'Code Geass',\n",
       "  'Bleach',\n",
       "  'Full Metal Alchemist',\n",
       "  'Death Note',\n",
       "  'One Punch Man',\n",
       "  'The Devil is a Part Timer!',\n",
       "  \"Stein's Gate\",\n",
       "  'Dragon Ball Z'])"
      ]
     },
     "execution_count": 13,
     "metadata": {},
     "output_type": "execute_result"
    }
   ],
   "source": [
    "def compare_lists(list1, list2):\n",
    "    common_elements = list(set(list1) & set(list2))\n",
    "    not_common_elements = list(set(list1) ^ set(list2))\n",
    "    return common_elements, not_common_elements\n",
    "\n",
    "\n",
    "mainstream = [\"One Punch Man\",\"Attack On Titan\",\"One Piece\",\"Sword Art Online\",\"Bleach\",\"Dragon Ball Z\",\"One Piece\"]\n",
    "must_watch = [\"Full Metal Alchemist\",\"Code Geass\",\"Death Note\",\"Stein's Gate\",\"The Devil is a Part Timer!\",\"One Piece\",\"Attack On Titan\"]\n",
    "              \n",
    "compare_lists(mainstream, must_watch)"
   ]
  },
  {
   "cell_type": "code",
   "execution_count": null,
   "id": "19cfbc6a",
   "metadata": {},
   "outputs": [],
   "source": []
  },
  {
   "cell_type": "code",
   "execution_count": null,
   "id": "fa836e02",
   "metadata": {},
   "outputs": [],
   "source": []
  },
  {
   "cell_type": "code",
   "execution_count": null,
   "id": "94e5466a",
   "metadata": {},
   "outputs": [],
   "source": [
    "Q6. Every other sub-list\n",
    "\n",
    "Given a list and 2 indices as input, return the sub-list enclosed within these 2 indices. It should\n",
    "contain every second element.\n",
    "E.g.\n",
    "Input f([2,3,5,7,11,13,17,19,23,29,31,37,41], 2, 9)\n",
    "Return [5, 11, 17, 23]"
   ]
  },
  {
   "cell_type": "code",
   "execution_count": 16,
   "id": "f8d75407",
   "metadata": {},
   "outputs": [
    {
     "data": {
      "text/plain": [
       "[5, 11, 17, 23]"
      ]
     },
     "execution_count": 16,
     "metadata": {},
     "output_type": "execute_result"
    }
   ],
   "source": [
    "def sub_list(lst, start_index, end_index):\n",
    "    return lst[start_index:end_index:2]\n",
    "\n",
    "\n",
    "sub_list([2,3,5,7,11,13,17,19,23,29,31,37,41], 2, 9)"
   ]
  },
  {
   "cell_type": "code",
   "execution_count": null,
   "id": "8862a7b0",
   "metadata": {},
   "outputs": [],
   "source": []
  },
  {
   "cell_type": "code",
   "execution_count": null,
   "id": "4fa96ec2",
   "metadata": {},
   "outputs": [],
   "source": []
  },
  {
   "cell_type": "code",
   "execution_count": null,
   "id": "43e9fe57",
   "metadata": {},
   "outputs": [],
   "source": [
    "Q7. Calculate the factorial of a number using lambda function."
   ]
  },
  {
   "cell_type": "code",
   "execution_count": 17,
   "id": "3b06855a",
   "metadata": {},
   "outputs": [
    {
     "name": "stdout",
     "output_type": "stream",
     "text": [
      "The factorial of 5 is 120\n"
     ]
    }
   ],
   "source": [
    "factorial = lambda n: 1 if n == 0 else n * factorial(n-1)\n",
    "\n",
    "num = 5\n",
    "result = factorial(num)\n",
    "\n",
    "print(f\"The factorial of {num} is {result}\")"
   ]
  },
  {
   "cell_type": "code",
   "execution_count": null,
   "id": "0fb36b19",
   "metadata": {},
   "outputs": [],
   "source": []
  },
  {
   "cell_type": "code",
   "execution_count": null,
   "id": "252d09fb",
   "metadata": {},
   "outputs": [],
   "source": []
  },
  {
   "cell_type": "code",
   "execution_count": null,
   "id": "9a80442c",
   "metadata": {},
   "outputs": [],
   "source": [
    "Q8. Some neat tricks up her sleeve:\n",
    "    \n",
    "Looking at the below code, write down the final values of A0, A1, ...An\n",
    "A0 = dict(zip(('a','b','c','d','e'),(1,2,3,4,5)))\n",
    "A1 = range(10)\n",
    "A2 = sorted([i for i in A1 if i in A0])\n",
    "A3 = sorted([A0[s] for s in A0])\n",
    "A4 = [i for i in A1 if i in A3]\n",
    "A5 = {i:i*i for i in A1}\n",
    "A6 = [[i,i*i] for i in A1]\n",
    "A7 = reduce(lambda x,y: x+y, [10,23, -45, 33])\n",
    "A8 = map(lambda x: x*2, [1,2,3,4])\n",
    "A9 = filter(lambda x: len(x) >3, [“I” , “want”, “to”, “learn”, “python”])"
   ]
  },
  {
   "cell_type": "code",
   "execution_count": null,
   "id": "a6b75060",
   "metadata": {},
   "outputs": [],
   "source": [
    "A0 = {'a': 1, 'b': 2, 'c': 3, 'd': 4, 'e': 5}\n",
    "A1 = range(10) # [0, 1, 2, 3, 4, 5, 6, 7, 8, 9]\n",
    "A2 = [] # since none of the elements of A1 are in A0\n",
    "A3 = [1, 2, 3, 4, 5] # the values of A0 in sorted order\n",
    "A4 = [] # since none of the elements of A1 are in A3\n",
    "A5 = {0: 0, 1: 1, 2: 4, 3: 9, 4: 16, 5: 25, 6: 36, 7: 49, 8: 64, 9: 81}\n",
    "A6 = [[0, 0], [1, 1], [2, 4], [3, 9], [4, 16], [5, 25], [6, 36], [7, 49], [8, 64], [9, 81]]\n",
    "A7 = 21 # sum of [10, 23, -45, 33]\n",
    "A8 = [2, 4, 6, 8] # each element of [1, 2, 3, 4] multiplied by 2\n",
    "A9 = ['want', 'learn', 'python'] # strings with length greater than 3 from the given list"
   ]
  },
  {
   "cell_type": "code",
   "execution_count": null,
   "id": "f808447d",
   "metadata": {},
   "outputs": [],
   "source": []
  },
  {
   "cell_type": "code",
   "execution_count": null,
   "id": "15fb8fed",
   "metadata": {},
   "outputs": [],
   "source": []
  },
  {
   "cell_type": "code",
   "execution_count": null,
   "id": "fcdc84f8",
   "metadata": {},
   "outputs": [],
   "source": [
    "Q9.Write a func that takes 3 args:\n",
    "from_date - string representing a date in the form of 'yy-mm-dd'\n",
    "to_date - string representing a date in the form of 'yy-mm-dd'\n",
    "difference - int\n",
    "Returns True if from_date and to_date are less than difference days away from each other, else\n",
    "returns False."
   ]
  },
  {
   "cell_type": "code",
   "execution_count": 18,
   "id": "e945e63b",
   "metadata": {},
   "outputs": [],
   "source": [
    "from datetime import datetime, timedelta\n",
    "\n",
    "def date_range_within_difference(from_date, to_date, difference):\n",
    "    # Convert the date strings to datetime objects\n",
    "    from_datetime = datetime.strptime(from_date, '%y-%m-%d')\n",
    "    to_datetime = datetime.strptime(to_date, '%y-%m-%d')\n",
    "    \n",
    "    # Calculate the difference between the dates in days\n",
    "    delta = (to_datetime - from_datetime).days\n",
    "    \n",
    "    # Compare the difference with the given limit and return the result\n",
    "    return abs(delta) < difference"
   ]
  },
  {
   "cell_type": "code",
   "execution_count": null,
   "id": "f49b8521",
   "metadata": {},
   "outputs": [],
   "source": []
  },
  {
   "cell_type": "code",
   "execution_count": null,
   "id": "94f57c06",
   "metadata": {},
   "outputs": [],
   "source": []
  },
  {
   "cell_type": "code",
   "execution_count": null,
   "id": "59c643be",
   "metadata": {},
   "outputs": [],
   "source": [
    "Q10. Of date and days\n",
    "\n",
    "Write a func that takes 2 args:\n",
    "date - string representing a date in the form of 'yy-mm-dd'\n",
    "n - integer\n",
    "Returns the string representation of date n days before 'date'\n",
    "E.g. f('16-12-10', 11) should return '16-11-29'"
   ]
  },
  {
   "cell_type": "code",
   "execution_count": 19,
   "id": "73eb143d",
   "metadata": {},
   "outputs": [
    {
     "data": {
      "text/plain": [
       "'16-11-29'"
      ]
     },
     "execution_count": 19,
     "metadata": {},
     "output_type": "execute_result"
    }
   ],
   "source": [
    "from datetime import datetime, timedelta\n",
    "\n",
    "def get_previous_date(date_str, n):\n",
    "    # Parse the input date string and subtract n days\n",
    "    date = datetime.strptime(date_str, '%y-%m-%d') - timedelta(days=n)\n",
    "    # Return the formatted string\n",
    "    return datetime.strftime(date, '%y-%m-%d')\n",
    "\n",
    "\n",
    "get_previous_date('16-12-10', 11)"
   ]
  },
  {
   "cell_type": "code",
   "execution_count": null,
   "id": "888de362",
   "metadata": {},
   "outputs": [],
   "source": []
  },
  {
   "cell_type": "code",
   "execution_count": null,
   "id": "46486de1",
   "metadata": {},
   "outputs": [],
   "source": []
  },
  {
   "cell_type": "code",
   "execution_count": null,
   "id": "a3849e86",
   "metadata": {},
   "outputs": [],
   "source": [
    "Q11. Something fishy there -\n",
    "\n",
    "Find output of following:\n",
    "    \n",
    "def f(x, l=[]):\n",
    "    for i in range(x):\n",
    "    l.append(i*i)\n",
    "    print(l)\n",
    "    \n",
    "f(2)\n",
    "f(3,[3,2,1])\n",
    "f(3)"
   ]
  },
  {
   "cell_type": "code",
   "execution_count": null,
   "id": "71bdbf19",
   "metadata": {},
   "outputs": [],
   "source": [
    "f(2) => [0, 1]\n",
    "f(2, [3, 2, 1]) => [3, 2, 1, 0, 1, 4]\n",
    "f(3) => [0, 1, 0, 1, 4]"
   ]
  },
  {
   "cell_type": "code",
   "execution_count": null,
   "id": "1c7e4ae1",
   "metadata": {},
   "outputs": [],
   "source": []
  }
 ],
 "metadata": {
  "kernelspec": {
   "display_name": "Python 3 (ipykernel)",
   "language": "python",
   "name": "python3"
  },
  "language_info": {
   "codemirror_mode": {
    "name": "ipython",
    "version": 3
   },
   "file_extension": ".py",
   "mimetype": "text/x-python",
   "name": "python",
   "nbconvert_exporter": "python",
   "pygments_lexer": "ipython3",
   "version": "3.9.13"
  }
 },
 "nbformat": 4,
 "nbformat_minor": 5
}
